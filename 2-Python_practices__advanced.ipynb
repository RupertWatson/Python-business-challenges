{
 "cells": [
  {
   "cell_type": "markdown",
   "id": "de3fbb53",
   "metadata": {},
   "source": [
    "## Python in practice -- ADVANCED\n",
    "\n",
    "<p style=\"text-align:center;\">\n",
    "<img src=\"https://github.com/digital-futures-academy/DataScienceMasterResources/blob/main/Resources/datascience-notebook-header.png?raw=true\"\n",
    "     alt=\"DigitalFuturesLogo\"\n",
    "     style=\"float: center; margin-right: 10px;\" />\n",
    "</p>\n"
   ]
  },
  {
   "cell_type": "markdown",
   "id": "5b0a5fac",
   "metadata": {},
   "source": [
    "## _Exercise 1_ (ADVANCED)\n",
    "\n",
    "You're being tasked with implementing a field for an application where customers should fill in their full name as a single entry. The restrictions are:\n",
    "\n",
    "- A customer must have at least 1 first name and 1 last name.\n",
    "\n",
    "- A customer must have at least 2 of their names (1 first name and 1 last) starting with a capital letter. Eg: John Smith, Alexander-George Koyn el. Note how in the second example their last name \"Koyn el\" starts with a capital letter, but is also split. This should be accepted.\n",
    "\n",
    "- No name can be shorter than 2 letters.\n",
    "\n",
    "Your task is to verify the entries and return:\n",
    "\n",
    "- `OK`: If the input respects all criteria\n",
    "\n",
    "- `Did you mean 'corrected_name'?` : If the name does not meet the minimum number of capital letters required, but is otherwise correct.\n",
    "\n",
    "- `Missing 1 or more names. Please type your FULL name.` : If the customer only provides 1 name \n",
    "\n",
    "- `This is a compulsory field` : If the entry is completely missing.\n",
    "\n",
    "- `Invalid name` : If anything else is wrong (Eg: the input is not a single string)\n",
    "\n",
    "\n",
    "**INPUT**: Single `string`\n",
    "\n",
    "**OUTPUT**: Single `string`"
   ]
  },
  {
   "cell_type": "markdown",
   "id": "a4b6be53",
   "metadata": {},
   "source": [
    "##### Tests to run:\n",
    "\n",
    "```python\n",
    "check_name('Troy Revor Hick')   # OUTPUT: OK\n",
    "\n",
    "check_name('Vay Montana')       # OUTPUT: OK\n",
    "\n",
    "check_name('E Tesdoro')         # OUTPUT: Invalid name\n",
    "\n",
    "check_name('George')            # OUTPUT: Missing 1 or more names. Please type your FULL name.\n",
    "\n",
    "check_name('hector jubilante')  # OUTPUT: Did you mean 'Hector Jubilante'?\n",
    "```"
   ]
  },
  {
   "cell_type": "code",
   "execution_count": null,
   "id": "62580aa0",
   "metadata": {},
   "outputs": [
    {
     "data": {
      "text/plain": [
       "'Did you mean Diana Ray Sofia?'"
      ]
     },
     "execution_count": 25,
     "metadata": {},
     "output_type": "execute_result"
    }
   ],
   "source": [
    "def check_name(name):\n",
    "    if not name:\n",
    "        return('This is a compulsory field')\n",
    "    if not isinstance(name,str):\n",
    "        return('Invalid name')\n",
    "    if any(c.isdigit() for c in name):\n",
    "        return('Invalid name: Includes digits')\n",
    "    names = name.split()\n",
    "    if len(names) < 2:\n",
    "        return('Missing 1 or more names. Please type your FULL name.')\n",
    "    capital_count = 0\n",
    "    for name_ in names:\n",
    "        if len(name_) < 2:\n",
    "            return('Invalid name')\n",
    "        if name_[0].isupper():\n",
    "            capital_count += 1\n",
    "    if capital_count < len(names): # Changed 2 -> len(names) to pass test cases\n",
    "        corrected_name = \" \".join([word.capitalize() for word in names])\n",
    "        #return('Did you mean \\'{0}\\'?'.format(corrected_name)) removed surrounding quotes to pass test cases\n",
    "        return('Did you mean {0}?'.format(corrected_name))\n",
    "    return('OK')\n",
    "\n",
    "#Check this case -->\n",
    "#check_name('Diana Ray sofia')#, \"Did you mean Diana Ray Sofia?\")"
   ]
  },
  {
   "cell_type": "markdown",
   "id": "a00ac1ba",
   "metadata": {},
   "source": [
    "### Testing\n",
    "\n",
    "Your code will be tested against these tests when you push your code to your remote.  You may wish to create your own test files to run these - please DO NOT include these files in your commits!\n",
    "\n",
    "You will score 10 points for every test that your solution passes."
   ]
  },
  {
   "cell_type": "markdown",
   "id": "bc0d2b87",
   "metadata": {},
   "source": [
    "```python\n",
    "import unittest\n",
    "\n",
    "class Test_ExerciseOne(unittest.TestCase):\n",
    "    \n",
    "    def test_empty(self):\n",
    "        self.assertEqual(check_name(''), \"This is a compulsory field\")\n",
    "        \n",
    "    def test_basic(self):\n",
    "        self.assertEqual(check_name('Alex Caian'), \"OK\")\n",
    "        self.assertEqual(check_name('Lisa Carpenter Joanne'), \"OK\")\n",
    "        self.assertEqual(check_name('Roger-Nigel Hendrich Tuluz Fonfor Fancy-Name Lu Xi Yo'), \"OK\")\n",
    "        \n",
    "    def test_invalids(self):\n",
    "        self.assertEqual(check_name('E E E'), \"Invalid name\")\n",
    "        self.assertEqual(check_name(['John', 'Smith']), \"Invalid name\")\n",
    "        self.assertEqual(check_name(55), \"Invalid name\")\n",
    "        \n",
    "    def test_capitals(self):\n",
    "        self.assertEqual(check_name('hector jubilantes'), \"Did you mean Hector Jubilantes?\")\n",
    "        self.assertEqual(check_name('Diana Ray sofia'), \"Did you mean Diana Ray Sofia?\")\n",
    "```"
   ]
  },
  {
   "cell_type": "markdown",
   "id": "9d971620",
   "metadata": {},
   "source": [
    "## On finishing this exercise\n",
    "\n",
    "When you have finished your work on this exercise, you should:\n",
    "\n",
    "1. Save your notebook\n",
    "2. Add and commit your changes using Git\n",
    "\n",
    "***NOTE:*** There are no tests for the BONUS section.  If you attempt this, put the test code in a Python cell and run it to see if it works!  You will not receive extra points for doing this."
   ]
  },
  {
   "cell_type": "markdown",
   "id": "44d27c0f",
   "metadata": {},
   "source": [
    "#### BONUS\n",
    "\n",
    "There are multiple ways to improve our function. What are some changes you'd propose to your client regarding the limitations of the requirements? Can you implement them to improve your function?\n",
    "\n",
    "* _Eg1_: `check_name('Koyn el') # OUTPUT: Did you mean Koyn El?`\n",
    "    \n",
    "    > The problem here is that we know from our full example that 'Koyn el' is only a split surname. However, our function, by definition, picks it up as being correct with the exception of capitalisation.\n",
    "    \n",
    "    \n",
    "* _Eg2_: `check_name('7yuv27eyh 7rushdaksnd 65671iokjh') # OUTPUT: ?`\n",
    "\n",
    "    > How does your function handle gibberish?"
   ]
  },
  {
   "cell_type": "markdown",
   "id": "5dca005c",
   "metadata": {},
   "source": [
    "---"
   ]
  },
  {
   "cell_type": "markdown",
   "id": "f37e089b",
   "metadata": {},
   "source": [
    "## _Exercise 2_ (ADVANCED)\n",
    "\n",
    "You've just been hired as the security manager for the well renowned cloud provider SWA (Smazon Web Applications). While settling into the office, your first task is to showcase a simple example of credential login to a non-technical client. As such, you will present to them the two options you currently have available in terms of login for one of your services:\n",
    "\n",
    "> A. One-time password\n",
    "\n",
    "For this option, the user only needs to input a single password. The password must more than 3 and less than 17 characters long. It must contain at least 1 digit, 2 special characters and 1 uppercase letter. The password can also **not** start with a digit.\n",
    "\n",
    "> B. Key+value pair\n",
    "\n",
    "For this option, the user may supply a key-value pair in the form of a tuple. The key must be made exclusively of special characters and be exactly 10 characters long, with the exception of the final 2 characters which **must** be uppercase letters. The value must be an integer between 10000 - 99999, but it may be supplied in formats other than int.\n",
    "\n",
    "Your task is showcase how the login is checked for integrity. You should output:\n",
    "\n",
    "- `Connection OK` : In both cases A & B, if the login respects the criteria.\n",
    "\n",
    "#### For case A, in this order of priority:\n",
    "\n",
    "- `Password length incorrect` : If the password length is outside the interval required\n",
    "\n",
    "- `Missing {} character(s) of type {}` : If the password is missing some of the required types of characters. Eg: `check_password('A', 'Hello123!') # OUTPUT: Missing 1 character(s) of type special character`\n",
    "\n",
    "If there are multiple missing, the order of announcement should be: special character > digit > uppercase. Multiple flags should be separated by a space. A trailing space is accepted\n",
    "\n",
    "- `Invalid password` : If the password is invalid for other reasons\n",
    "\n",
    "\n",
    "#### For case B:\n",
    "\n",
    "- `Incorrect key` : If the key provided is incorrect for any reason\n",
    "\n",
    "- `Incorrect value` : If the value provided is incorrect for any reason\n",
    "\n",
    "- `Invalid pair` : If the password is invalid for formatting reasons\n",
    "\n",
    "\n",
    "**INPUT**: `A`, `string` (case A) `|` `B`, `tuple` (case B)\n",
    "\n",
    "**OUTPUT**: `string` (both for A & B)\n",
    "\n",
    "\n",
    "Your function should also specify as the first parameter the type of login expected. See examples below."
   ]
  },
  {
   "cell_type": "markdown",
   "id": "61b335ce",
   "metadata": {},
   "source": [
    "**_Tests to run_**\n",
    "\n",
    "> Case A\n",
    "\n",
    "```python\n",
    "check_password('A', 'A6m0%|tsYu8')                  # OUTPUT: Connection OK\n",
    "\n",
    "check_password('A', 'm8KK51)guYsPl22}<@UtXzPio8')   # OUTPUT: Password length incorrect\n",
    "\n",
    "check_password('A', 'Abracadabra!')                 # OUTPUT: Missing 1 character(s) of type special character Missing 1 character(s) of type digit \n",
    "\n",
    "check_password('A', 88)                             # OUTPUT: Invalid password\n",
    "\n",
    "> Case B\n",
    "\n",
    "check_password('B', ('%^%@#^(@UI', 76545))          # OUTPUT: Connection OK\n",
    "\n",
    "check_password('B', ('^@&$@@}{>YP', 16720))         # OUTPUT: Incorrect key\n",
    "\n",
    "check_password('B', ('^#&|?<>.IM', 9927))           # OUTPUT: Incorrect value\n",
    "\n",
    "check_password('B', ['@#*|\"<//MK', 88821])          # OUTPUT: Invalid pair"
   ]
  },
  {
   "cell_type": "code",
   "execution_count": null,
   "id": "6e725d81",
   "metadata": {},
   "outputs": [
    {
     "data": {
      "text/plain": [
       "'Incorrect key and value'"
      ]
     },
     "execution_count": 11,
     "metadata": {},
     "output_type": "execute_result"
    }
   ],
   "source": [
    "def check_password(auth_type, credentials):\n",
    "    if auth_type == 'A':\n",
    "        return(check_pass(credentials))\n",
    "    elif auth_type == 'B':\n",
    "        return(check_key_value(credentials))\n",
    "    else:\n",
    "        return('Invalid authentication type')\n",
    "    \n",
    "def check_pass(credentials):\n",
    "    if not isinstance(credentials,str): return(\"Invalid password\")\n",
    "    if credentials[0].isdigit(): return(\"Invalid password\")\n",
    "    if len(credentials) <= 3 or len(credentials) >= 17: return(\"Password length incorrect\")\n",
    "    missing_chr_msg = \"\"\n",
    "    capital_count = sum(c.isupper() for c in credentials)\n",
    "    special_count = sum(not c.isalnum() for c in credentials)\n",
    "    digit_count = sum(c.isdigit() for c in credentials)\n",
    "    if special_count < 2:\n",
    "        missing_chr_msg += \"Missing {0} character(s) of type {1} \".format(2-special_count,\"special character\")\n",
    "    if digit_count < 1: \n",
    "        missing_chr_msg += \"Missing {0} character(s) of type {1} \".format(1-digit_count,\"digit\")\n",
    "    if capital_count < 1:\n",
    "        missing_chr_msg += \"Missing {0} character(s) of type {1} \".format(1-capital_count,\"uppercase\")   \n",
    "    if missing_chr_msg:\n",
    "        return(missing_chr_msg)\n",
    "    return('Connection OK')\n",
    "\n",
    "def check_key_value(credentials):\n",
    "    if not isinstance(credentials,tuple) or len(credentials) != 2:\n",
    "        return (\"Invalid pair\")\n",
    "    key = credentials[0]\n",
    "    try:\n",
    "        value = int(credentials[1])\n",
    "    except:\n",
    "        return(\"Incorrect value\")\n",
    "    if check_key(key) and check_value(value): \n",
    "        return('Connection OK')\n",
    "    elif check_key(key):\n",
    "        return(\"Incorrect value\")\n",
    "    elif check_value(value):\n",
    "        return(\"Incorrect key\")\n",
    "    else: return (\"Incorrect key and value\")\n",
    "\n",
    "def check_key(key):\n",
    "    if len(key) != 10:\n",
    "        return False\n",
    "    if (not all(not c.isalnum() for c in key[0:len(key) - 2])\n",
    "        or not all(c.isupper() for c in key[len(key) - 2:len(key)])):\n",
    "        return False\n",
    "    return True\n",
    "\n",
    "def check_value(value):\n",
    "    return (10000 <= value <= 99999)"
   ]
  },
  {
   "cell_type": "markdown",
   "id": "9bfe2981",
   "metadata": {},
   "source": [
    "### Testing\n",
    "\n",
    "Your code will be tested against these tests when you push your code to your remote.  You may wish to create your own test files to run these - please DO NOT include these files in your commits!\n",
    "\n",
    "You will score 10 points for every test that your solution passes."
   ]
  },
  {
   "cell_type": "markdown",
   "id": "a6105a0c",
   "metadata": {},
   "source": [
    "```python\n",
    "import unittest \n",
    "\n",
    "class Test_ExerciseTwo(unittest.TestCase):\n",
    "    \n",
    "    def test_invalid(self):\n",
    "        self.assertEqual(check_password('A', 86272), \"Invalid password\")\n",
    "        self.assertEqual(check_password('A', '9B![>aloes'), \"Invalid password\")\n",
    "        self.assertEqual(check_password('B', ('{&*@$!@|KL', 72590, 'apple')), \"Invalid pair\")\n",
    "        self.assertEqual(check_password('B', ['#$.,><><', '66230']), \"Invalid pair\")\n",
    "        \n",
    "    def test_correct(self):\n",
    "        self.assertEqual(check_password('A', 'Hello123!>.<'), \"Connection OK\")\n",
    "        self.assertEqual(check_password('A', 'aLo&.3'), \"Connection OK\")\n",
    "        self.assertEqual(check_password('A', 'VerifyMe!99;'), \"Connection OK\")\n",
    "        self.assertEqual(check_password('B', ('#$*@!>\\|PO', '88898')), \"Connection OK\")\n",
    "        self.assertEqual(check_password('B', ('\".<)()??ZZ', 54102)), \"Connection OK\")\n",
    "        \n",
    "    def test_long(self):\n",
    "        self.assertEqual(check_password('A', 'Ty89??AH*DSJDSOJDIYUSIHfy7yigfr567/u2[]'), \"Password length incorrect\")\n",
    "        self.assertEqual(check_password('A', 'M!?'), \"Password length incorrect\")\n",
    "        \n",
    "    def test_missing(self):\n",
    "        self.assertEqual(check_password('A', 'HelloThere'), \"Missing 2 character(s) of type special character Missing 1 character(s) of type digit \")\n",
    "        self.assertEqual(check_password('A', 'applesbanana'), \"Missing 2 character(s) of type special character Missing 1 character(s) of type digit Missing 1 character(s) of type uppercase \")\n",
    "        self.assertEqual(check_password('A', '!!!!!!!!!!!!'), \"Missing 1 character(s) of type digit Missing 1 character(s) of type uppercase \")\n",
    "        \n",
    "    def test_key(self):\n",
    "        self.assertEqual(check_password('B', ('0?!@&&{}LP', 88104)), \"Incorrect key\")\n",
    "        self.assertEqual(check_password('B', ('%$@@~`**Lz', 10020)), \"Incorrect key\")\n",
    "        self.assertEqual(check_password('B', ('^%??~!!;.MA', 96520.0)), \"Incorrect key\")\n",
    "        \n",
    "    def test_value(self):\n",
    "        self.assertEqual(check_password('B', ('%@^!#@><II', 9898)), \"Incorrect value\")\n",
    "        self.assertEqual(check_password('B', ('%@^!#@><II', 89359283)), \"Incorrect value\")\n",
    "        self.assertEqual(check_password('B', ('%@^!#@><II', 'apple')), \"Incorrect value\")\n",
    "```"
   ]
  },
  {
   "cell_type": "markdown",
   "id": "0cb73350",
   "metadata": {},
   "source": [
    "## On finishing this exercise\n",
    "\n",
    "When you have finished your work on this exercise, you should:\n",
    "\n",
    "1. Save your notebook\n",
    "2. Add and commit your changes using Git\n",
    "3. Push to your remote repository - this will begin the automated grading process\n",
    "\n",
    "You can visit your repository on GitHub to see the results of the tests.\n",
    "\n",
    "***NOTE:*** There are no tests for the BONUS section.  If you attempt this, put the test code in a Python cell and run it to see if it works!  You will not receive extra points for doing this."
   ]
  },
  {
   "cell_type": "markdown",
   "id": "8610187f",
   "metadata": {},
   "source": [
    "#### BONUS\n",
    "\n",
    "After completing your task within the set requirements, you quickly begin to realise your function has some embarrassing limitations. You decide to quickly change some features around before the presentation in order to improve the functionality. What are some changes you'd like to make, and can you implement them in your function?\n",
    "\n",
    "* _Eg1_: `check_password('C', '????7sysbbhksha') # OUTPUT: ?`\n",
    "\n",
    "    > How does your function handle authentication types outside the two? What about typing 'a' instead of 'A'?\n",
    "    \n",
    "* _Eg2_: `check_password('B', (key1,value1)) ; check_password('B', (key2, value1)) ; check_password('B', (key1, value2)) # OUTPUTS: ?`\n",
    "\n",
    "    > Is there a way to keep track of previous logons by constructing the database on the fly? (I.e. checking post-login, rather than prior to). This goes beyond the scope of the exercise but it's interesting to discuss KV pair security in broader terms.\n",
    "    \n",
    "* _Eg3_: `check_password('B', ('#@*^#torPO', 88)) # OUTPUT: ?`\n",
    "\n",
    "    > How do you handle B-type situations where both the key and value are incorrect? There were no indications to prioritise one over the other in the initial proposal."
   ]
  },
  {
   "cell_type": "markdown",
   "id": "a43942cb",
   "metadata": {},
   "source": [
    "---"
   ]
  }
 ],
 "metadata": {
  "kernelspec": {
   "display_name": "Python 3",
   "language": "python",
   "name": "python3"
  },
  "language_info": {
   "codemirror_mode": {
    "name": "ipython",
    "version": 3
   },
   "file_extension": ".py",
   "mimetype": "text/x-python",
   "name": "python",
   "nbconvert_exporter": "python",
   "pygments_lexer": "ipython3",
   "version": "3.9.7"
  },
  "nteract": {
   "version": "0.28.0"
  }
 },
 "nbformat": 4,
 "nbformat_minor": 5
}
